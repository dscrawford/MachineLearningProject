{
 "cells": [
  {
   "cell_type": "code",
   "execution_count": 2,
   "metadata": {},
   "outputs": [],
   "source": [
    "import pandas as pd\n",
    "import numpy as np\n",
    "from matplotlib.image import imread"
   ]
  },
  {
   "cell_type": "code",
   "execution_count": 3,
   "metadata": {},
   "outputs": [
    {
     "data": {
      "text/plain": [
       "array([[[140,  83,  92],\n",
       "        [140,  83,  92],\n",
       "        [140,  83,  90],\n",
       "        ...,\n",
       "        [230, 170, 134],\n",
       "        [177, 119,  79],\n",
       "        [240, 183, 140]],\n",
       "\n",
       "       [[138,  82,  91],\n",
       "        [138,  82,  91],\n",
       "        [138,  83,  89],\n",
       "        ...,\n",
       "        [231, 168, 133],\n",
       "        [190, 131,  91],\n",
       "        [198, 139,  97]],\n",
       "\n",
       "       [[135,  84,  89],\n",
       "        [136,  83,  89],\n",
       "        [136,  84,  88],\n",
       "        ...,\n",
       "        [242, 177, 145],\n",
       "        [233, 171, 134],\n",
       "        [196, 134,  93]],\n",
       "\n",
       "       ...,\n",
       "\n",
       "       [[  1,   8,  16],\n",
       "        [  1,   8,  16],\n",
       "        [  1,   8,  16],\n",
       "        ...,\n",
       "        [255, 255, 219],\n",
       "        [255, 255, 219],\n",
       "        [249, 249, 213]],\n",
       "\n",
       "       [[  0,   7,  15],\n",
       "        [  0,   7,  15],\n",
       "        [  0,   7,  15],\n",
       "        ...,\n",
       "        [255, 255, 222],\n",
       "        [255, 255, 221],\n",
       "        [253, 253, 217]],\n",
       "\n",
       "       [[  1,   8,  16],\n",
       "        [  1,   8,  16],\n",
       "        [  1,   8,  16],\n",
       "        ...,\n",
       "        [250, 250, 214],\n",
       "        [254, 254, 218],\n",
       "        [255, 255, 220]]], dtype=uint8)"
      ]
     },
     "execution_count": 3,
     "metadata": {},
     "output_type": "execute_result"
    }
   ],
   "source": [
    "imread('./images/macarons/1001193.jpg')"
   ]
  }
 ],
 "metadata": {
  "kernelspec": {
   "display_name": "Python 3",
   "language": "python",
   "name": "python3"
  },
  "language_info": {
   "codemirror_mode": {
    "name": "ipython",
    "version": 3
   },
   "file_extension": ".py",
   "mimetype": "text/x-python",
   "name": "python",
   "nbconvert_exporter": "python",
   "pygments_lexer": "ipython3",
   "version": "3.7.4"
  }
 },
 "nbformat": 4,
 "nbformat_minor": 2
}
