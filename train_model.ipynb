{
 "cells": [
  {
   "cell_type": "code",
   "execution_count": 3,
   "metadata": {},
   "outputs": [],
   "source": [
    "from __future__ import absolute_import, division, print_function, unicode_literals\n",
    "\n",
    "import pandas as pd\n",
    "import numpy as np\n",
    "from matplotlib.image import imread\n",
    "from os import listdir\n",
    "import tensorflow as tf\n",
    "from tensorflow.keras import datasets, layers, models\n",
    "from tensorflow import keras\n",
    "from tensorflow.keras.applications.resnet50 import preprocess_input, decode_predictions\n",
    "from tensorflow.keras.applications.inception_v3 import InceptionV3\n",
    "from tensorflow.keras.models import Model, clone_model\n",
    "from tensorflow.keras.initializers import RandomNormal\n",
    "import matplotlib.pyplot as plt\n",
    "folder = './data/images/'"
   ]
  },
  {
   "cell_type": "code",
   "execution_count": 4,
   "metadata": {},
   "outputs": [],
   "source": [
    "T = pd.read_csv('food_nutrition.csv')\n",
    "class_names = sorted(T[T.columns[0]])"
   ]
  },
  {
   "cell_type": "code",
   "execution_count": 5,
   "metadata": {},
   "outputs": [],
   "source": [
    "datagen = keras.preprocessing.image.ImageDataGenerator(dtype='float32', rescale=1./255)"
   ]
  },
  {
   "cell_type": "code",
   "execution_count": 6,
   "metadata": {},
   "outputs": [
    {
     "name": "stdout",
     "output_type": "stream",
     "text": [
      "Found 36072 images belonging to 72 classes.\n",
      "Found 35928 images belonging to 72 classes.\n"
     ]
    }
   ],
   "source": [
    "train_generator = datagen.flow_from_directory(\n",
    "    directory = folder + 'train/',\n",
    "    classes = class_names,\n",
    "    class_mode = 'categorical',\n",
    "    target_size=(299,299),\n",
    "    batch_size = 64\n",
    ")\n",
    "\n",
    "valid_generator = datagen.flow_from_directory(\n",
    "    directory = folder + 'valid/',\n",
    "    classes = class_names,\n",
    "    class_mode = 'categorical',\n",
    "    target_size=(299,299),\n",
    "    batch_size = 64\n",
    ")"
   ]
  },
  {
   "cell_type": "code",
   "execution_count": 8,
   "metadata": {},
   "outputs": [],
   "source": [
    "base_model = InceptionV3(weights='imagenet')"
   ]
  },
  {
   "cell_type": "code",
   "execution_count": 9,
   "metadata": {},
   "outputs": [],
   "source": [
    "x = base_model.output\n",
    "x = layers.Dense(1024, activation='relu')(x)\n",
    "predictions = layers.Dense(len(class_names), activation='softmax')(x)\n",
    "\n",
    "model = Model(inputs=base_model.input, outputs=predictions)"
   ]
  },
  {
   "cell_type": "code",
   "execution_count": 10,
   "metadata": {
    "scrolled": false
   },
   "outputs": [
    {
     "name": "stdout",
     "output_type": "stream",
     "text": [
      "Epoch 1/100\n",
      "564/564 [==============================] - 563s 998ms/step - loss: 4.2755 - accuracy: 0.0139 - val_loss: 4.2766 - val_accuracy: 0.0141\n",
      "Epoch 2/100\n",
      "564/564 [==============================] - 549s 974ms/step - loss: 4.2408 - accuracy: 0.0202 - val_loss: 4.3832 - val_accuracy: 0.0230\n",
      "Epoch 3/100\n",
      "564/564 [==============================] - 548s 971ms/step - loss: 4.0680 - accuracy: 0.0393 - val_loss: 4.1174 - val_accuracy: 0.0372\n",
      "Epoch 4/100\n",
      "564/564 [==============================] - 549s 973ms/step - loss: 3.9019 - accuracy: 0.0550 - val_loss: 4.0298 - val_accuracy: 0.0517\n",
      "Epoch 5/100\n",
      "564/564 [==============================] - 548s 972ms/step - loss: 3.7183 - accuracy: 0.0755 - val_loss: 3.7491 - val_accuracy: 0.0709\n",
      "Epoch 6/100\n",
      "564/564 [==============================] - 548s 972ms/step - loss: 3.5527 - accuracy: 0.1002 - val_loss: 4.2103 - val_accuracy: 0.0568\n",
      "Epoch 7/100\n",
      "564/564 [==============================] - 548s 972ms/step - loss: 3.4537 - accuracy: 0.1220 - val_loss: 3.7677 - val_accuracy: 0.0937\n",
      "Epoch 8/100\n",
      "564/564 [==============================] - 547s 970ms/step - loss: 3.4914 - accuracy: 0.1183 - val_loss: 4.4750 - val_accuracy: 0.0288\n",
      "Epoch 9/100\n",
      "564/564 [==============================] - 548s 971ms/step - loss: 3.4833 - accuracy: 0.1184 - val_loss: 3.7507 - val_accuracy: 0.0867\n",
      "Epoch 10/100\n",
      "564/564 [==============================] - 553s 980ms/step - loss: 3.3543 - accuracy: 0.1388 - val_loss: 3.3876 - val_accuracy: 0.1306\n",
      "Epoch 11/100\n",
      "564/564 [==============================] - 548s 972ms/step - loss: 3.4511 - accuracy: 0.1274 - val_loss: 3.4566 - val_accuracy: 0.1280\n",
      "Epoch 12/100\n",
      "564/564 [==============================] - 548s 972ms/step - loss: 3.2962 - accuracy: 0.1518 - val_loss: 3.4197 - val_accuracy: 0.1297\n",
      "Epoch 13/100\n",
      "564/564 [==============================] - 548s 972ms/step - loss: 3.3707 - accuracy: 0.1424 - val_loss: 3.4530 - val_accuracy: 0.1239\n",
      "Epoch 14/100\n",
      "564/564 [==============================] - 549s 973ms/step - loss: 3.2866 - accuracy: 0.1574 - val_loss: 3.3603 - val_accuracy: 0.1488\n",
      "Epoch 15/100\n",
      "564/564 [==============================] - 549s 974ms/step - loss: 3.2251 - accuracy: 0.1684 - val_loss: 3.4525 - val_accuracy: 0.1394\n",
      "Epoch 16/100\n",
      "564/564 [==============================] - 549s 974ms/step - loss: 3.1485 - accuracy: 0.1821 - val_loss: 5.1813 - val_accuracy: 0.0591\n",
      "Epoch 17/100\n",
      "564/564 [==============================] - 549s 973ms/step - loss: 3.0934 - accuracy: 0.1948 - val_loss: 3.2797 - val_accuracy: 0.1667\n",
      "Epoch 18/100\n",
      "564/564 [==============================] - 549s 974ms/step - loss: 3.2537 - accuracy: 0.1699 - val_loss: 4.6113 - val_accuracy: 0.0378\n",
      "Epoch 19/100\n",
      "564/564 [==============================] - 549s 973ms/step - loss: 3.0836 - accuracy: 0.1989 - val_loss: 4.1336 - val_accuracy: 0.0857\n",
      "Epoch 20/100\n",
      "564/564 [==============================] - 549s 973ms/step - loss: 3.1263 - accuracy: 0.2003 - val_loss: 4.9029 - val_accuracy: 0.0055\n",
      "Epoch 21/100\n",
      "564/564 [==============================] - 549s 974ms/step - loss: 3.2787 - accuracy: 0.1712 - val_loss: 3.5584 - val_accuracy: 0.1369\n",
      "Epoch 22/100\n",
      "564/564 [==============================] - 549s 973ms/step - loss: 3.0327 - accuracy: 0.2180 - val_loss: 3.7667 - val_accuracy: 0.1074\n",
      "Epoch 23/100\n",
      "564/564 [==============================] - 549s 973ms/step - loss: 2.8726 - accuracy: 0.2513 - val_loss: 3.1027 - val_accuracy: 0.2108\n",
      "Epoch 24/100\n",
      "564/564 [==============================] - 549s 973ms/step - loss: 2.7638 - accuracy: 0.2741 - val_loss: 3.0768 - val_accuracy: 0.2151\n",
      "Epoch 25/100\n",
      "564/564 [==============================] - 549s 973ms/step - loss: 2.9044 - accuracy: 0.2501 - val_loss: 3.2642 - val_accuracy: 0.1865\n",
      "Epoch 26/100\n",
      "564/564 [==============================] - 549s 973ms/step - loss: 2.7605 - accuracy: 0.2761 - val_loss: 2.7922 - val_accuracy: 0.2698\n",
      "Epoch 27/100\n",
      "564/564 [==============================] - 549s 974ms/step - loss: 2.7374 - accuracy: 0.2835 - val_loss: 2.7403 - val_accuracy: 0.2840\n",
      "Epoch 28/100\n",
      "564/564 [==============================] - 549s 973ms/step - loss: 2.5794 - accuracy: 0.3171 - val_loss: 2.6633 - val_accuracy: 0.3011\n",
      "Epoch 29/100\n",
      "564/564 [==============================] - 549s 974ms/step - loss: 2.6156 - accuracy: 0.3074 - val_loss: 2.7927 - val_accuracy: 0.2826\n",
      "Epoch 30/100\n",
      "564/564 [==============================] - 549s 974ms/step - loss: 2.4296 - accuracy: 0.3490 - val_loss: 3.6912 - val_accuracy: 0.1598\n",
      "Epoch 31/100\n",
      "564/564 [==============================] - 549s 973ms/step - loss: 2.5585 - accuracy: 0.3250 - val_loss: 2.7388 - val_accuracy: 0.2945\n",
      "Epoch 32/100\n",
      "564/564 [==============================] - 549s 973ms/step - loss: 2.5080 - accuracy: 0.3379 - val_loss: 4.1346 - val_accuracy: 0.0974\n",
      "Epoch 33/100\n",
      "564/564 [==============================] - 549s 974ms/step - loss: 2.5390 - accuracy: 0.3324 - val_loss: 3.0690 - val_accuracy: 0.2551\n",
      "Epoch 34/100\n",
      "564/564 [==============================] - 549s 974ms/step - loss: 2.4592 - accuracy: 0.3471 - val_loss: 2.5966 - val_accuracy: 0.3261\n",
      "Epoch 35/100\n",
      "564/564 [==============================] - 549s 974ms/step - loss: 2.4280 - accuracy: 0.3575 - val_loss: 2.7325 - val_accuracy: 0.3046\n",
      "Epoch 36/100\n",
      "564/564 [==============================] - 549s 974ms/step - loss: 2.2464 - accuracy: 0.3972 - val_loss: 2.5288 - val_accuracy: 0.3451\n",
      "Epoch 37/100\n",
      "564/564 [==============================] - 549s 974ms/step - loss: 2.1910 - accuracy: 0.4097 - val_loss: 3.6266 - val_accuracy: 0.1484\n",
      "Epoch 38/100\n",
      "564/564 [==============================] - 549s 974ms/step - loss: 2.1670 - accuracy: 0.4135 - val_loss: 3.8171 - val_accuracy: 0.1506\n",
      "Epoch 39/100\n",
      "564/564 [==============================] - 550s 974ms/step - loss: 2.0948 - accuracy: 0.4318 - val_loss: 2.4779 - val_accuracy: 0.3577\n",
      "Epoch 40/100\n",
      "564/564 [==============================] - 550s 975ms/step - loss: 1.9165 - accuracy: 0.4738 - val_loss: 2.2633 - val_accuracy: 0.4059\n",
      "Epoch 41/100\n",
      "564/564 [==============================] - 549s 974ms/step - loss: 1.7709 - accuracy: 0.5088 - val_loss: 2.5203 - val_accuracy: 0.3764\n",
      "Epoch 42/100\n",
      "564/564 [==============================] - 549s 974ms/step - loss: 1.7812 - accuracy: 0.5049 - val_loss: 2.5609 - val_accuracy: 0.3709\n",
      "Epoch 43/100\n",
      "564/564 [==============================] - 549s 973ms/step - loss: 1.6353 - accuracy: 0.5422 - val_loss: 2.3948 - val_accuracy: 0.3958\n",
      "Epoch 44/100\n",
      "564/564 [==============================] - 549s 974ms/step - loss: 1.4890 - accuracy: 0.5787 - val_loss: 3.0761 - val_accuracy: 0.3031\n",
      "Epoch 45/100\n",
      "564/564 [==============================] - 549s 974ms/step - loss: 1.3760 - accuracy: 0.6014 - val_loss: 2.4567 - val_accuracy: 0.4052\n",
      "Epoch 46/100\n",
      "564/564 [==============================] - 549s 974ms/step - loss: 1.3759 - accuracy: 0.6088 - val_loss: 4.0221 - val_accuracy: 0.2344\n",
      "Epoch 47/100\n",
      "564/564 [==============================] - 549s 974ms/step - loss: 1.3392 - accuracy: 0.6144 - val_loss: 3.5000 - val_accuracy: 0.2988\n",
      "Epoch 48/100\n",
      "564/564 [==============================] - 550s 975ms/step - loss: 1.0994 - accuracy: 0.6798 - val_loss: 2.7189 - val_accuracy: 0.4049\n",
      "Epoch 49/100\n",
      "564/564 [==============================] - 549s 974ms/step - loss: 1.0235 - accuracy: 0.6986 - val_loss: 3.5946 - val_accuracy: 0.2963\n",
      "Epoch 50/100\n",
      "564/564 [==============================] - 549s 974ms/step - loss: 0.9899 - accuracy: 0.7063 - val_loss: 3.1415 - val_accuracy: 0.3592\n",
      "Epoch 51/100\n",
      "564/564 [==============================] - 549s 974ms/step - loss: 0.9954 - accuracy: 0.7099 - val_loss: 2.7913 - val_accuracy: 0.3878\n",
      "Epoch 52/100\n",
      "564/564 [==============================] - 549s 973ms/step - loss: 0.9880 - accuracy: 0.7173 - val_loss: 2.7538 - val_accuracy: 0.3905\n",
      "Epoch 53/100\n",
      "564/564 [==============================] - 549s 973ms/step - loss: 1.0180 - accuracy: 0.7030 - val_loss: 2.7808 - val_accuracy: 0.4051\n",
      "Epoch 54/100\n",
      "564/564 [==============================] - 549s 973ms/step - loss: 0.7491 - accuracy: 0.7749 - val_loss: 2.9412 - val_accuracy: 0.4107\n",
      "Epoch 55/100\n",
      "564/564 [==============================] - 549s 973ms/step - loss: 0.9597 - accuracy: 0.7355 - val_loss: 2.7955 - val_accuracy: 0.3618\n",
      "Epoch 56/100\n"
     ]
    },
    {
     "name": "stdout",
     "output_type": "stream",
     "text": [
      "564/564 [==============================] - 549s 973ms/step - loss: 0.6792 - accuracy: 0.7954 - val_loss: 3.0399 - val_accuracy: 0.4007\n",
      "Epoch 57/100\n",
      "564/564 [==============================] - 549s 973ms/step - loss: 0.4615 - accuracy: 0.8647 - val_loss: 13.9730 - val_accuracy: 0.0310\n",
      "Epoch 58/100\n",
      "564/564 [==============================] - 548s 972ms/step - loss: 0.8446 - accuracy: 0.7556 - val_loss: 7.0908 - val_accuracy: 0.0478\n",
      "Epoch 59/100\n",
      "564/564 [==============================] - 549s 973ms/step - loss: 0.7719 - accuracy: 0.7718 - val_loss: 3.1048 - val_accuracy: 0.4032\n",
      "Epoch 60/100\n",
      "564/564 [==============================] - 549s 974ms/step - loss: 0.4362 - accuracy: 0.8718 - val_loss: 3.5706 - val_accuracy: 0.3770\n",
      "Epoch 61/100\n",
      "564/564 [==============================] - 549s 973ms/step - loss: 0.3821 - accuracy: 0.8853 - val_loss: 3.6297 - val_accuracy: 0.3918\n",
      "Epoch 62/100\n",
      "564/564 [==============================] - 549s 973ms/step - loss: 0.4041 - accuracy: 0.8771 - val_loss: 3.5602 - val_accuracy: 0.3974\n",
      "Epoch 63/100\n",
      "564/564 [==============================] - 549s 973ms/step - loss: 0.4678 - accuracy: 0.8611 - val_loss: 3.7344 - val_accuracy: 0.3803\n",
      "Epoch 64/100\n",
      "564/564 [==============================] - 549s 973ms/step - loss: 0.6163 - accuracy: 0.8205 - val_loss: 3.5305 - val_accuracy: 0.3906\n",
      "Epoch 65/100\n",
      "564/564 [==============================] - 549s 973ms/step - loss: 0.4540 - accuracy: 0.8627 - val_loss: 3.5914 - val_accuracy: 0.4025\n",
      "Epoch 66/100\n",
      "564/564 [==============================] - 549s 973ms/step - loss: 0.3175 - accuracy: 0.9045 - val_loss: 4.5042 - val_accuracy: 0.3527\n",
      "Epoch 67/100\n",
      "564/564 [==============================] - 548s 972ms/step - loss: 0.4996 - accuracy: 0.8592 - val_loss: 4.0228 - val_accuracy: 0.3006\n",
      "Epoch 68/100\n",
      "564/564 [==============================] - 549s 973ms/step - loss: 0.5052 - accuracy: 0.8472 - val_loss: 3.5364 - val_accuracy: 0.4004\n",
      "Epoch 69/100\n",
      "564/564 [==============================] - 549s 973ms/step - loss: 0.2928 - accuracy: 0.9136 - val_loss: 3.6483 - val_accuracy: 0.4054\n",
      "Epoch 70/100\n",
      "564/564 [==============================] - 549s 973ms/step - loss: 0.3429 - accuracy: 0.8989 - val_loss: 4.7029 - val_accuracy: 0.2648\n",
      "Epoch 71/100\n",
      "564/564 [==============================] - 548s 972ms/step - loss: 0.3398 - accuracy: 0.8980 - val_loss: 3.8106 - val_accuracy: 0.3787\n",
      "Epoch 72/100\n",
      "564/564 [==============================] - 549s 973ms/step - loss: 0.3561 - accuracy: 0.8939 - val_loss: 3.7715 - val_accuracy: 0.4046\n",
      "Epoch 73/100\n",
      "564/564 [==============================] - 549s 973ms/step - loss: 0.2476 - accuracy: 0.9261 - val_loss: 4.0069 - val_accuracy: 0.4015\n",
      "Epoch 74/100\n",
      "564/564 [==============================] - 549s 973ms/step - loss: 0.3054 - accuracy: 0.9090 - val_loss: 3.8075 - val_accuracy: 0.4027\n",
      "Epoch 75/100\n",
      "564/564 [==============================] - 548s 972ms/step - loss: 0.1670 - accuracy: 0.9499 - val_loss: 4.2340 - val_accuracy: 0.4016\n",
      "Epoch 76/100\n",
      "564/564 [==============================] - 549s 973ms/step - loss: 0.1692 - accuracy: 0.9498 - val_loss: 4.1560 - val_accuracy: 0.3955\n",
      "Epoch 77/100\n",
      "564/564 [==============================] - 550s 974ms/step - loss: 0.5218 - accuracy: 0.8500 - val_loss: 3.8666 - val_accuracy: 0.3856\n",
      "Epoch 78/100\n",
      "564/564 [==============================] - 550s 975ms/step - loss: 0.2331 - accuracy: 0.9324 - val_loss: 3.9309 - val_accuracy: 0.3998\n",
      "Epoch 79/100\n",
      "564/564 [==============================] - 549s 974ms/step - loss: 0.1687 - accuracy: 0.9506 - val_loss: 4.0949 - val_accuracy: 0.3813\n",
      "Epoch 80/100\n",
      "564/564 [==============================] - 549s 974ms/step - loss: 0.2669 - accuracy: 0.9228 - val_loss: 4.3949 - val_accuracy: 0.2818\n",
      "Epoch 81/100\n",
      "564/564 [==============================] - 549s 974ms/step - loss: 0.4225 - accuracy: 0.8749 - val_loss: 3.8310 - val_accuracy: 0.3974\n",
      "Epoch 82/100\n",
      "564/564 [==============================] - 552s 978ms/step - loss: 0.5484 - accuracy: 0.8473 - val_loss: 3.5939 - val_accuracy: 0.3591\n",
      "Epoch 83/100\n",
      "564/564 [==============================] - 550s 975ms/step - loss: 0.3181 - accuracy: 0.9064 - val_loss: 3.9206 - val_accuracy: 0.3953\n",
      "Epoch 84/100\n",
      "564/564 [==============================] - 549s 974ms/step - loss: 0.1492 - accuracy: 0.9584 - val_loss: 5.1356 - val_accuracy: 0.2901\n",
      "Epoch 85/100\n",
      "564/564 [==============================] - 550s 976ms/step - loss: 0.3754 - accuracy: 0.8898 - val_loss: 5.3417 - val_accuracy: 0.1435\n",
      "Epoch 86/100\n",
      "564/564 [==============================] - 549s 974ms/step - loss: 0.7891 - accuracy: 0.7808 - val_loss: 3.6632 - val_accuracy: 0.3763\n",
      "Epoch 87/100\n",
      "564/564 [==============================] - 549s 974ms/step - loss: 0.2856 - accuracy: 0.9165 - val_loss: 3.7719 - val_accuracy: 0.4068\n",
      "Epoch 88/100\n",
      "564/564 [==============================] - 550s 975ms/step - loss: 0.3065 - accuracy: 0.9095 - val_loss: 3.8882 - val_accuracy: 0.3833\n",
      "Epoch 89/100\n",
      "564/564 [==============================] - 550s 975ms/step - loss: 0.2087 - accuracy: 0.9391 - val_loss: 3.9600 - val_accuracy: 0.4105\n",
      "Epoch 90/100\n",
      "564/564 [==============================] - 550s 975ms/step - loss: 0.3516 - accuracy: 0.9120 - val_loss: 7.3278 - val_accuracy: 0.0571\n",
      "Epoch 91/100\n",
      "564/564 [==============================] - 549s 974ms/step - loss: 0.5917 - accuracy: 0.8283 - val_loss: 3.6453 - val_accuracy: 0.3876\n",
      "Epoch 92/100\n",
      "564/564 [==============================] - 550s 975ms/step - loss: 0.1998 - accuracy: 0.9434 - val_loss: 3.9172 - val_accuracy: 0.4018\n",
      "Epoch 93/100\n",
      "564/564 [==============================] - 551s 976ms/step - loss: 0.1924 - accuracy: 0.9454 - val_loss: 3.9247 - val_accuracy: 0.3913\n",
      "Epoch 94/100\n",
      "564/564 [==============================] - 551s 977ms/step - loss: 0.1872 - accuracy: 0.9469 - val_loss: 4.6613 - val_accuracy: 0.3559\n",
      "Epoch 95/100\n",
      "564/564 [==============================] - 550s 976ms/step - loss: 0.2634 - accuracy: 0.9236 - val_loss: 4.2608 - val_accuracy: 0.3591\n",
      "Epoch 96/100\n",
      "564/564 [==============================] - 551s 976ms/step - loss: 0.5325 - accuracy: 0.8486 - val_loss: 3.5623 - val_accuracy: 0.3399\n",
      "Epoch 97/100\n",
      "564/564 [==============================] - 550s 976ms/step - loss: 0.3967 - accuracy: 0.8851 - val_loss: 4.3044 - val_accuracy: 0.3380\n",
      "Epoch 98/100\n",
      "564/564 [==============================] - 550s 976ms/step - loss: 0.2060 - accuracy: 0.9407 - val_loss: 3.9615 - val_accuracy: 0.4091\n",
      "Epoch 99/100\n",
      "564/564 [==============================] - 550s 975ms/step - loss: 0.4265 - accuracy: 0.8835 - val_loss: 6.4401 - val_accuracy: 0.1531\n",
      "Epoch 100/100\n",
      "564/564 [==============================] - 550s 975ms/step - loss: 0.5044 - accuracy: 0.8534 - val_loss: 3.8914 - val_accuracy: 0.3903\n"
     ]
    }
   ],
   "source": [
    "model.compile(optimizer='adam',\n",
    "              loss='categorical_crossentropy',\n",
    "              metrics=['accuracy'])\n",
    "history = model.fit_generator(train_generator, epochs=100, validation_data=valid_generator)"
   ]
  },
  {
   "cell_type": "code",
   "execution_count": 13,
   "metadata": {},
   "outputs": [
    {
     "name": "stdout",
     "output_type": "stream",
     "text": [
      "562/562 - 136s - loss: 3.8911 - accuracy: 0.3903\n"
     ]
    },
    {
     "data": {
      "image/png": "[encoded data removed]",
      "text/plain": [
       "<Figure size 432x288 with 1 Axes>"
      ]
     },
     "metadata": {
      "needs_background": "light"
     },
     "output_type": "display_data"
    }
   ],
   "source": [
    "plt.plot(history.history['accuracy'], label='accuracy')\n",
    "plt.plot(history.history['val_accuracy'], label = 'val_accuracy')\n",
    "plt.xlabel('Epoch')\n",
    "plt.ylabel('Accuracy')\n",
    "plt.ylim([0.5, 1])\n",
    "plt.legend(loc='lower right')\n",
    "test_loss, test_acc = model.evaluate_generator(valid_generator, verbose=2)"
   ]
  },
  {
   "cell_type": "code",
   "execution_count": 20,
   "metadata": {},
   "outputs": [
    {
     "data": {
      "text/plain": [
       "0.4107103"
      ]
     },
     "execution_count": 20,
     "metadata": {},
     "output_type": "execute_result"
    }
   ],
   "source": [
    "history.history['val_accuracy']"
   ]
  },
  {
   "cell_type": "code",
   "execution_count": 22,
   "metadata": {},
   "outputs": [],
   "source": [
    "from tensorflow.keras.models import save_model"
   ]
  },
  {
   "cell_type": "code",
   "execution_count": 24,
   "metadata": {},
   "outputs": [],
   "source": [
    "save_model(history.model, './model.h5', include_optimizer=True)"
   ]
  },
  {
   "cell_type": "code",
   "execution_count": 25,
   "metadata": {},
   "outputs": [
    {
     "data": {
      "text/plain": [
       "array([[2.1074975e-05, 3.9810367e-08, 9.0647904e-07, ..., 5.5999489e-04,\n",
       "        4.1722501e-06, 9.4977439e-09],\n",
       "       [4.1779927e-10, 9.2759394e-12, 4.2020840e-08, ..., 1.0699212e-07,\n",
       "        4.2504598e-07, 1.6390725e-08],\n",
       "       [2.2041489e-08, 5.7992635e-13, 1.1309275e-05, ..., 1.0358291e-06,\n",
       "        1.0903864e-11, 2.1865801e-11],\n",
       "       ...,\n",
       "       [3.5470057e-10, 1.2619690e-11, 6.5501597e-11, ..., 3.7873047e-08,\n",
       "        9.4747422e-12, 1.2917474e-08],\n",
       "       [5.6824527e-13, 6.5566545e-12, 2.6297720e-15, ..., 5.2119742e-10,\n",
       "        1.8380558e-15, 6.5248984e-10],\n",
       "       [1.2010192e-12, 4.6844668e-13, 4.0570208e-14, ..., 8.7210495e-15,\n",
       "        6.7824652e-13, 9.4040545e-15]], dtype=float32)"
      ]
     },
     "execution_count": 25,
     "metadata": {},
     "output_type": "execute_result"
    }
   ],
   "source": [
    "history.model.predict_generator(valid_generator)"
   ]
  }
 ],
 "metadata": {
  "kernelspec": {
   "display_name": "Python 3",
   "language": "python",
   "name": "python3"
  },
  "language_info": {
   "codemirror_mode": {
    "name": "ipython",
    "version": 3
   },
   "file_extension": ".py",
   "mimetype": "text/x-python",
   "name": "python",
   "nbconvert_exporter": "python",
   "pygments_lexer": "ipython3",
   "version": "3.8.0"
  }
 },
 "nbformat": 4,
 "nbformat_minor": 2
}
